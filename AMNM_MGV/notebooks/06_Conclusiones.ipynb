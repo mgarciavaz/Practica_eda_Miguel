{
 "cells": [
  {
   "cell_type": "markdown",
   "id": "98e7e69a",
   "metadata": {},
   "source": [
    "# Conclusiones\n",
    "\n",
    "En este notebook se expondrán las conclusiones a las que hemos llegado después de realizar el trabajo\n",
    "\n"
   ]
  },
  {
   "cell_type": "markdown",
   "id": "11362fb1",
   "metadata": {},
   "source": [
    "En primer lugar, siendo muy generales con todo lo que se ha realizado, pensamos que se ha realizado un trabajo bastante completo, aunque seguro que muy mejorable en muchos aspectos. Nos ha servido para abarcar más o menos casi todas las partes que tienen lugar en un proyecto profesional pero a menor escala. La experiencia nos ha servido para aprender mucho y afianzar los conocimientos que hemos visto a lo largo de este curso del Máster."
   ]
  },
  {
   "cell_type": "markdown",
   "id": "046b6697",
   "metadata": {},
   "source": [
    "Entrando ya en temas relacionados con el trabajo en sí, pensamos que los notebooks de 'Ingeniería de Variables' y 'Modelizacion' podría estar mejor, en el sentido de que pensamos que los resultados que obtenemos no son tan buenos como podrían ser y se puede deber a varios motivos:\n",
    "- Falta investigación en la selección de variables: Se podrían probar muchas más combianciones de variables y ver cómo afecta al desempeño de los modelos. Esta sería una forma de ir poco a poco obteniendo las variables que realmente no son tan necesarias para el modelo final.\n",
    "- Investigar otras formas de procesamiento de las variables: También se pueden probar más métodos de codificación de variables categóricas, escalados de las variables y formas de balancear. Las combinaciones son muy aplias pero no disponemos de los recursos para llevar a cabo una investigación tan exhaustiva.\n",
    "- Calidad de los datos: Es posible que la calidad de los datos no sea muy buena y por lo tanto no sea posible llegar a obtener unos resultados buenos nunca.\n",
    "- Complejidad del problema: Otra posibilidad es que nos falte mucha experiencia todavía en campo de la ciencia de datos, y personalmente creemos que es un motivo de peso en los resultados obtenidos."
   ]
  },
  {
   "cell_type": "markdown",
   "id": "5e822cde",
   "metadata": {},
   "source": [
    "Entre las conclusiones positivas están:\n",
    "- Familiarización con diversas técnicas de Machine Learning presentes en las distintas fases de un proyecto.\n",
    "- Hemos podido investigar por nuestra cuenta otras formas de proceder dependiendo de los resultados que hemos ido consiguiendo, que significa que tenemos capacidad para adaptarnos.\n",
    "- La forma de realizar este proyecto ha sido más realista con la forma de trabajar en el mundo real que otros trabajos que hayamos podido hacer anteriormente."
   ]
  },
  {
   "cell_type": "markdown",
   "id": "300f3e2d",
   "metadata": {},
   "source": [
    "Y por último, algunos comentarios sobre el proyecto de cara a futuras posibilidades:\n",
    "- Como ya hemos comentando a lo largo del proyecto, sería muy interesante determinar el valor de los Falsos Positivos y Falsos Negativos. Este estudio sería de gran utilidad de cara a tomar muchas decisiones que hemos tenido que tomar sin tener muy claro si podía ser correctas o no. Además, ayudaría a obtener mejores resultados de predicción.\n",
    "- Nos habría parecido muy interesante haber realizado un GridSearchCV en condiciónes, pero nuestros recursos no lo han permitido. Puede que con mejores ordenadores o teniendo acceso a la nube, se podría inverstigar mejor los hiperparámetros del modelo final, buscando en un espacio más amplio y comparándolo con el RandomizedSearchCV que hemos realizado"
   ]
  },
  {
   "cell_type": "markdown",
   "id": "dd143123",
   "metadata": {},
   "source": [
    "El proyecto ha sido muy intenso pero productivo, y esperamos que aunque los resultados no sean los mejores que se puedan obtener, nos sirva para aprender, que es realmente el objetivo que hay detrás de esto y por lo que nos esforzamos"
   ]
  }
 ],
 "metadata": {
  "kernelspec": {
   "display_name": "PracticaEDA",
   "language": "python",
   "name": "practicaeda"
  },
  "language_info": {
   "codemirror_mode": {
    "name": "ipython",
    "version": 3
   },
   "file_extension": ".py",
   "mimetype": "text/x-python",
   "name": "python",
   "nbconvert_exporter": "python",
   "pygments_lexer": "ipython3",
   "version": "3.9.18"
  }
 },
 "nbformat": 4,
 "nbformat_minor": 5
}
